{
 "cells": [
  {
   "cell_type": "code",
   "execution_count": 1,
   "metadata": {},
   "outputs": [],
   "source": [
    "import pandas as pd\n",
    "import numpy as np\n",
    "import matplotlib.pyplot as plt"
   ]
  },
  {
   "cell_type": "code",
   "execution_count": 2,
   "metadata": {},
   "outputs": [],
   "source": [
    "data=pd.read_csv(\"NASA Data set1.csv\")"
   ]
  },
  {
   "cell_type": "code",
   "execution_count": 3,
   "metadata": {},
   "outputs": [
    {
     "data": {
      "text/html": [
       "<div>\n",
       "<style scoped>\n",
       "    .dataframe tbody tr th:only-of-type {\n",
       "        vertical-align: middle;\n",
       "    }\n",
       "\n",
       "    .dataframe tbody tr th {\n",
       "        vertical-align: top;\n",
       "    }\n",
       "\n",
       "    .dataframe thead th {\n",
       "        text-align: right;\n",
       "    }\n",
       "</style>\n",
       "<table border=\"1\" class=\"dataframe\">\n",
       "  <thead>\n",
       "    <tr style=\"text-align: right;\">\n",
       "      <th></th>\n",
       "      <th>Planet_name</th>\n",
       "      <th>distance</th>\n",
       "      <th>stellar_magnitude</th>\n",
       "      <th>planet_type</th>\n",
       "      <th>discovery_year</th>\n",
       "      <th>mass_multiplier</th>\n",
       "      <th>mass_wrt</th>\n",
       "      <th>radius_multiplier</th>\n",
       "      <th>radius_wrt</th>\n",
       "      <th>orbital_radius</th>\n",
       "      <th>orbital_period</th>\n",
       "      <th>eccentricity</th>\n",
       "      <th>detection_method</th>\n",
       "    </tr>\n",
       "  </thead>\n",
       "  <tbody>\n",
       "    <tr>\n",
       "      <th>0</th>\n",
       "      <td>14 Herculis b</td>\n",
       "      <td>58</td>\n",
       "      <td>6.61935</td>\n",
       "      <td>Gas Giant</td>\n",
       "      <td>2002</td>\n",
       "      <td>8.13881</td>\n",
       "      <td>Jupiter</td>\n",
       "      <td>1.120</td>\n",
       "      <td>Jupiter</td>\n",
       "      <td>2.773069</td>\n",
       "      <td>4.800000</td>\n",
       "      <td>0.37</td>\n",
       "      <td>Radial Velocity</td>\n",
       "    </tr>\n",
       "    <tr>\n",
       "      <th>1</th>\n",
       "      <td>AU Microscopii b</td>\n",
       "      <td>32</td>\n",
       "      <td>8.81000</td>\n",
       "      <td>Neptune-like</td>\n",
       "      <td>2020</td>\n",
       "      <td>20.12000</td>\n",
       "      <td>Earth</td>\n",
       "      <td>0.363</td>\n",
       "      <td>Jupiter</td>\n",
       "      <td>0.064500</td>\n",
       "      <td>0.023272</td>\n",
       "      <td>0.19</td>\n",
       "      <td>Transit</td>\n",
       "    </tr>\n",
       "    <tr>\n",
       "      <th>2</th>\n",
       "      <td>CD Ceti b</td>\n",
       "      <td>28</td>\n",
       "      <td>13.95000</td>\n",
       "      <td>Super Earth</td>\n",
       "      <td>2020</td>\n",
       "      <td>3.95000</td>\n",
       "      <td>Earth</td>\n",
       "      <td>1.820</td>\n",
       "      <td>Earth</td>\n",
       "      <td>0.018500</td>\n",
       "      <td>0.006297</td>\n",
       "      <td>0.00</td>\n",
       "      <td>Radial Velocity</td>\n",
       "    </tr>\n",
       "    <tr>\n",
       "      <th>3</th>\n",
       "      <td>K2-116 b</td>\n",
       "      <td>161</td>\n",
       "      <td>10.80000</td>\n",
       "      <td>Terrestrial</td>\n",
       "      <td>2017</td>\n",
       "      <td>0.25700</td>\n",
       "      <td>Earth</td>\n",
       "      <td>0.690</td>\n",
       "      <td>Earth</td>\n",
       "      <td>0.048000</td>\n",
       "      <td>0.012868</td>\n",
       "      <td>0.06</td>\n",
       "      <td>Transit</td>\n",
       "    </tr>\n",
       "    <tr>\n",
       "      <th>4</th>\n",
       "      <td>LkCa 15 b</td>\n",
       "      <td>516</td>\n",
       "      <td>12.02500</td>\n",
       "      <td>Unknown</td>\n",
       "      <td>2015</td>\n",
       "      <td>NaN</td>\n",
       "      <td>NaN</td>\n",
       "      <td>NaN</td>\n",
       "      <td>NaN</td>\n",
       "      <td>14.700000</td>\n",
       "      <td>0.999316</td>\n",
       "      <td>0.00</td>\n",
       "      <td>Direct Imaging</td>\n",
       "    </tr>\n",
       "  </tbody>\n",
       "</table>\n",
       "</div>"
      ],
      "text/plain": [
       "        Planet_name  distance  stellar_magnitude   planet_type  \\\n",
       "0     14 Herculis b        58            6.61935     Gas Giant   \n",
       "1  AU Microscopii b        32            8.81000  Neptune-like   \n",
       "2         CD Ceti b        28           13.95000   Super Earth   \n",
       "3          K2-116 b       161           10.80000   Terrestrial   \n",
       "4         LkCa 15 b       516           12.02500       Unknown   \n",
       "\n",
       "   discovery_year  mass_multiplier mass_wrt  radius_multiplier radius_wrt  \\\n",
       "0            2002          8.13881  Jupiter              1.120    Jupiter   \n",
       "1            2020         20.12000    Earth              0.363    Jupiter   \n",
       "2            2020          3.95000    Earth              1.820      Earth   \n",
       "3            2017          0.25700    Earth              0.690      Earth   \n",
       "4            2015              NaN      NaN                NaN        NaN   \n",
       "\n",
       "   orbital_radius  orbital_period  eccentricity detection_method  \n",
       "0        2.773069        4.800000          0.37  Radial Velocity  \n",
       "1        0.064500        0.023272          0.19          Transit  \n",
       "2        0.018500        0.006297          0.00  Radial Velocity  \n",
       "3        0.048000        0.012868          0.06          Transit  \n",
       "4       14.700000        0.999316          0.00   Direct Imaging  "
      ]
     },
     "execution_count": 3,
     "metadata": {},
     "output_type": "execute_result"
    }
   ],
   "source": [
    "data"
   ]
  },
  {
   "cell_type": "code",
   "execution_count": 4,
   "metadata": {
    "scrolled": true
   },
   "outputs": [
    {
     "data": {
      "image/png": "[encoded data removed]",
      "text/plain": [
       "<Figure size 432x288 with 1 Axes>"
      ]
     },
     "metadata": {
      "needs_background": "light"
     },
     "output_type": "display_data"
    }
   ],
   "source": [
    "Planet_name=('14 Herculis b','AU Microscopii b','K2-116 b','LkCa 15 b','CD Ceti b')\n",
    "index=(1,2,3,4,5)\n",
    "stellar_magnitude=[6.61935,8.81000,10.80000,12.02500,13.95000]\n",
    "plt.barh(index,stellar_magnitude,tick_label=Planet_name)\n",
    "plt.ylabel('stellar_magnitude')\n",
    "plt.xlabel('Planet_name')\n",
    "plt.show()\n",
    "\n"
   ]
  },
  {
   "cell_type": "code",
   "execution_count": 5,
   "metadata": {},
   "outputs": [
    {
     "data": {
      "image/png": "[encoded data removed]",
      "text/plain": [
       "<Figure size 432x288 with 1 Axes>"
      ]
     },
     "metadata": {
      "needs_background": "light"
     },
     "output_type": "display_data"
    }
   ],
   "source": [
    "Planet_name=('14 Herculis b','AU Microscopii b','K2-116 b','LkCa 15 b','CD Ceti b')\n",
    "index=(1,2,3,4,5)\n",
    "orbital_radius=[0.018500,0.048000,0.064500,2.773069,14.700000]\n",
    "plt.barh(index,orbital_radius,tick_label=Planet_name)\n",
    "plt.ylabel('orbital_radius')\n",
    "plt.xlabel('Planet_name')\n",
    "plt.show()"
   ]
  },
  {
   "cell_type": "code",
   "execution_count": 6,
   "metadata": {},
   "outputs": [
    {
     "data": {
      "image/png": "[encoded data removed]",
      "text/plain": [
       "<Figure size 432x288 with 1 Axes>"
      ]
     },
     "metadata": {
      "needs_background": "light"
     },
     "output_type": "display_data"
    }
   ],
   "source": [
    "Planet_name=('14 Herculis b','AU Microscopii b','K2-116 b','LkCa 15 b','CD Ceti b')\n",
    "index=(1,2,3,4,5)\n",
    "eccentricity=[0.00,0.00,0.06,0.19,0.37]\n",
    "plt.barh(index,eccentricity,tick_label=Planet_name)\n",
    "plt.ylabel('eccentricity')\n",
    "plt.xlabel('Planet_name')\n",
    "plt.show()"
   ]
  },
  {
   "cell_type": "code",
   "execution_count": 7,
   "metadata": {},
   "outputs": [
    {
     "data": {
      "image/png": "[encoded data removed]",
      "text/plain": [
       "<Figure size 432x288 with 1 Axes>"
      ]
     },
     "metadata": {
      "needs_background": "light"
     },
     "output_type": "display_data"
    }
   ],
   "source": [
    "Planet_name=('14 Herculis b','AU Microscopii b','K2-116 b','LkCa 15 b','CD Ceti b')\n",
    "index=(1,2,3,4,5)\n",
    "orbital_period=[0.006297,0.012868,0.023272,0.999316,4.800000]\n",
    "plt.barh(index,orbital_period,tick_label=Planet_name)\n",
    "plt.ylabel('orbital_period')\n",
    "plt.xlabel('Planet_name')\n",
    "plt.show()"
   ]
  },
  {
   "cell_type": "code",
   "execution_count": 8,
   "metadata": {},
   "outputs": [],
   "source": [
    "data=pd.read_csv(\"NASA Data set3.csv\")"
   ]
  },
  {
   "cell_type": "code",
   "execution_count": 9,
   "metadata": {},
   "outputs": [
    {
     "data": {
      "text/html": [
       "<div>\n",
       "<style scoped>\n",
       "    .dataframe tbody tr th:only-of-type {\n",
       "        vertical-align: middle;\n",
       "    }\n",
       "\n",
       "    .dataframe tbody tr th {\n",
       "        vertical-align: top;\n",
       "    }\n",
       "\n",
       "    .dataframe thead th {\n",
       "        text-align: right;\n",
       "    }\n",
       "</style>\n",
       "<table border=\"1\" class=\"dataframe\">\n",
       "  <thead>\n",
       "    <tr style=\"text-align: right;\">\n",
       "      <th></th>\n",
       "      <th>Planet</th>\n",
       "      <th>Stellar Magnitude</th>\n",
       "      <th>Orbital Radius</th>\n",
       "      <th>Eccentricity</th>\n",
       "      <th>Radius Multiplier</th>\n",
       "      <th>Gravitational force</th>\n",
       "    </tr>\n",
       "  </thead>\n",
       "  <tbody>\n",
       "    <tr>\n",
       "      <th>0</th>\n",
       "      <td>Zephyria</td>\n",
       "      <td>10.0</td>\n",
       "      <td>0.22 AU</td>\n",
       "      <td>0.1000</td>\n",
       "      <td>0.0640</td>\n",
       "      <td>7.328N</td>\n",
       "    </tr>\n",
       "    <tr>\n",
       "      <th>1</th>\n",
       "      <td>Earth</td>\n",
       "      <td>-17.7</td>\n",
       "      <td>1AU</td>\n",
       "      <td>0.0167</td>\n",
       "      <td>0.0426</td>\n",
       "      <td>9.8N</td>\n",
       "    </tr>\n",
       "  </tbody>\n",
       "</table>\n",
       "</div>"
      ],
      "text/plain": [
       "     Planet  Stellar Magnitude Orbital Radius  Eccentricity  \\\n",
       "0  Zephyria               10.0        0.22 AU        0.1000   \n",
       "1     Earth              -17.7            1AU        0.0167   \n",
       "\n",
       "   Radius Multiplier  Gravitational force  \n",
       "0             0.0640               7.328N  \n",
       "1             0.0426                 9.8N  "
      ]
     },
     "execution_count": 9,
     "metadata": {},
     "output_type": "execute_result"
    }
   ],
   "source": [
    "data"
   ]
  },
  {
   "cell_type": "code",
   "execution_count": 10,
   "metadata": {},
   "outputs": [
    {
     "data": {
      "image/png": "[encoded data removed]",
      "text/plain": [
       "<Figure size 432x288 with 1 Axes>"
      ]
     },
     "metadata": {
      "needs_background": "light"
     },
     "output_type": "display_data"
    }
   ],
   "source": [
    "Planet_name=('Zephyria','Earth')\n",
    "index=(1,2)\n",
    "Stellar_magnitude=[10.0,-17.7]\n",
    "plt.barh(index,Stellar_magnitude,tick_label=Planet_name)\n",
    "plt.ylabel('Planet_name')\n",
    "plt.xlabel('Stellar_magnitude')\n",
    "plt.show()"
   ]
  },
  {
   "cell_type": "code",
   "execution_count": 11,
   "metadata": {},
   "outputs": [
    {
     "data": {
      "image/png": "[encoded data removed]",
      "text/plain": [
       "<Figure size 432x288 with 1 Axes>"
      ]
     },
     "metadata": {
      "needs_background": "light"
     },
     "output_type": "display_data"
    }
   ],
   "source": [
    "Planet_name=('Zephyria','Earth')\n",
    "index=(1,2)\n",
    "Orbital_Radius=[0.22,1]\n",
    "plt.barh(index,Orbital_Radius,tick_label=Planet_name)\n",
    "plt.ylabel('Planet_name')\n",
    "plt.xlabel('Orbital_Radius')\n",
    "plt.show()"
   ]
  },
  {
   "cell_type": "code",
   "execution_count": 12,
   "metadata": {},
   "outputs": [
    {
     "data": {
      "image/png": "[encoded data removed]",
      "text/plain": [
       "<Figure size 432x288 with 1 Axes>"
      ]
     },
     "metadata": {
      "needs_background": "light"
     },
     "output_type": "display_data"
    }
   ],
   "source": [
    "Planet_name=('Zephyria','Earth')\n",
    "index=(1,2)\n",
    "Eccentricity=[0.1000,0.0167]\n",
    "plt.barh(index,Eccentricity,tick_label=Planet_name)\n",
    "plt.ylabel('Planet_name')\n",
    "plt.xlabel('Eccentricity')\n",
    "plt.show()"
   ]
  },
  {
   "cell_type": "code",
   "execution_count": 13,
   "metadata": {},
   "outputs": [
    {
     "data": {
      "image/png": "[encoded data removed]",
      "text/plain": [
       "<Figure size 432x288 with 1 Axes>"
      ]
     },
     "metadata": {
      "needs_background": "light"
     },
     "output_type": "display_data"
    }
   ],
   "source": [
    "Planet_name=('Zephyria','Earth')\n",
    "index=(1,2)\n",
    "Radius_multiplier=[0.0640,0.0426]\n",
    "plt.barh(index,Radius_multiplier,tick_label=Planet_name)\n",
    "plt.ylabel('Planet_name')\n",
    "plt.xlabel('Radius Multiplier')\n",
    "plt.show()"
   ]
  },
  {
   "cell_type": "code",
   "execution_count": 14,
   "metadata": {},
   "outputs": [
    {
     "data": {
      "image/png": "[encoded data removed]",
      "text/plain": [
       "<Figure size 432x288 with 1 Axes>"
      ]
     },
     "metadata": {
      "needs_background": "light"
     },
     "output_type": "display_data"
    }
   ],
   "source": [
    "Planet_name=('Zephyria','Earth')\n",
    "index=(1,2)\n",
    "Gravitational_force=[7.328,9.8]\n",
    "plt.barh(index,Gravitational_force,tick_label=Planet_name)\n",
    "plt.ylabel('Planet_name')\n",
    "plt.xlabel('Gravitational force')\n",
    "plt.show()"
   ]
  },
  {
   "cell_type": "code",
   "execution_count": null,
   "metadata": {},
   "outputs": [],
   "source": []
  }
 ],
 "metadata": {
  "kernelspec": {
   "display_name": "Python 3",
   "language": "python",
   "name": "python3"
  },
  "language_info": {
   "codemirror_mode": {
    "name": "ipython",
    "version": 3
   },
   "file_extension": ".py",
   "mimetype": "text/x-python",
   "name": "python",
   "nbconvert_exporter": "python",
   "pygments_lexer": "ipython3",
   "version": "3.7.6"
  }
 },
 "nbformat": 4,
 "nbformat_minor": 4
}
